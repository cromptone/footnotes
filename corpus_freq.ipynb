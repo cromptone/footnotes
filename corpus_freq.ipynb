{
 "cells": [
  {
   "cell_type": "code",
   "execution_count": 5,
   "metadata": {},
   "outputs": [],
   "source": [
    "from wordfreq import word_frequency\n",
    "import spacy as spacy\n",
    "from googletrans import Translator\n",
    "translator = Translator()"
   ]
  },
  {
   "cell_type": "code",
   "execution_count": 8,
   "metadata": {},
   "outputs": [
    {
     "name": "stdout",
     "output_type": "stream",
     "text": [
      "Großvater  ->  grandfather\n",
      "wohlhabender  ->  wealthy\n",
      "Bauer  ->  Bauer\n",
      "Kaufmann  ->  Kaufmann\n",
      "kommunistischen  ->  communist\n",
      "Regime  ->  Regime\n",
      "Rumänien  ->  Romania\n",
      "enteignet  ->  expropriated\n"
     ]
    }
   ],
   "source": [
    "nlp = spacy.load(\"de_core_news_sm\")\n",
    "doc = nlp(\"Ihr Großvater war ein wohlhabender Bauer und Kaufmann und wurde unter dem kommunistischen Regime in Rumänien enteignet\")\n",
    "\n",
    "words = []\n",
    "for token in doc:\n",
    "    if word_frequency(token.text, \"de\") < .00005:        \n",
    "        words.append(token.text)\n",
    "            \n",
    "translations = translator.translate(words, dest='en') \n",
    "for translation in translations:\n",
    "    print(translation.origin, ' -> ', translation.text)"
   ]
  }
 ],
 "metadata": {
  "kernelspec": {
   "display_name": "footnotes",
   "language": "python",
   "name": "footnotes"
  },
  "language_info": {
   "codemirror_mode": {
    "name": "ipython",
    "version": 3
   },
   "file_extension": ".py",
   "mimetype": "text/x-python",
   "name": "python",
   "nbconvert_exporter": "python",
   "pygments_lexer": "ipython3",
   "version": "3.8.5"
  }
 },
 "nbformat": 4,
 "nbformat_minor": 4
}
