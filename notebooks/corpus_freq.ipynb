{
 "cells": [
  {
   "cell_type": "code",
   "execution_count": 60,
   "metadata": {},
   "outputs": [],
   "source": [
    "from wordfreq import word_frequency\n",
    "from googletrans import Translator\n",
    "from base64 import b64decode\n",
    "import spacy as spacy\n",
    "\n",
    "translator = Translator()\n",
    "LANG = {\"de\": \"de_core_news_sm\"}"
   ]
  },
  {
   "cell_type": "code",
   "execution_count": 61,
   "metadata": {},
   "outputs": [
    {
     "name": "stdout",
     "output_type": "stream",
     "text": [
      "der  ->  of the  ->  0.0302\n",
      "Gedanke  ->  thought  ->  2.51e-05\n",
      "sein  ->  be  ->  0.00204\n",
      "frei  ->  free  ->  0.000158\n",
      "wer  ->  who  ->  0.000661\n",
      "können  ->  can  ->  0.00135\n",
      "ich  ->  I  ->  0.0132\n",
      "erraten  ->  guess  ->  3.09e-06\n"
     ]
    }
   ],
   "source": [
    "text = b64decode(\"RGllIEdlZGFua2VuIHNpbmQgZnJlaSwgd2VyIGthbm4gc2llIGVycmF0ZW4=\").decode('utf-8')\n",
    "\n",
    "nlp = spacy.load(LANG[\"de\"])\n",
    "doc = nlp(text)\n",
    "\n",
    "words = [token.lemma_ for token in doc if token.is_alpha]\n",
    "words = list(dict.fromkeys(words))\n",
    "translations = translator.translate(words, dest='en') \n",
    "\n",
    "for translation in translations:    \n",
    "    print(translation.origin, ' -> ', translation.text, ' -> ', word_frequency(translation.origin, \"de\"))"
   ]
  },
  {
   "cell_type": "code",
   "execution_count": 62,
   "metadata": {},
   "outputs": [],
   "source": [
    "chunks = []\n",
    "\n",
    "for chunk in doc.noun_chunks:\n",
    "    if len(chunk.text.split(\" \")) > 1:\n",
    "        chunks.append(chunk.text)\n",
    "\n",
    "        \n",
    "translations = translator.translate(chunks, dest='en') \n"
   ]
  },
  {
   "cell_type": "code",
   "execution_count": 63,
   "metadata": {},
   "outputs": [
    {
     "name": "stdout",
     "output_type": "stream",
     "text": [
      "Die Gedanken\n"
     ]
    }
   ],
   "source": [
    "for translation in translations:\n",
    "    print(translation.origin)"
   ]
  },
  {
   "cell_type": "code",
   "execution_count": null,
   "metadata": {},
   "outputs": [],
   "source": []
  },
  {
   "cell_type": "code",
   "execution_count": null,
   "metadata": {},
   "outputs": [],
   "source": []
  },
  {
   "cell_type": "code",
   "execution_count": null,
   "metadata": {},
   "outputs": [],
   "source": []
  }
 ],
 "metadata": {
  "kernelspec": {
   "display_name": "footnotes",
   "language": "python",
   "name": "footnotes"
  },
  "language_info": {
   "codemirror_mode": {
    "name": "ipython",
    "version": 3
   },
   "file_extension": ".py",
   "mimetype": "text/x-python",
   "name": "python",
   "nbconvert_exporter": "python",
   "pygments_lexer": "ipython3",
   "version": "3.8.5"
  }
 },
 "nbformat": 4,
 "nbformat_minor": 4
}
