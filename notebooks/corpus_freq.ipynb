{
 "cells": [
  {
   "cell_type": "code",
   "execution_count": 2,
   "metadata": {},
   "outputs": [],
   "source": [
    "from wordfreq import word_frequency\n",
    "import spacy as spacy\n",
    "from googletrans import Translator\n",
    "translator = Translator()\n",
    "\n",
    "LANG = {\"de\": \"de_core_news_sm\"}"
   ]
  },
  {
   "cell_type": "code",
   "execution_count": 3,
   "metadata": {},
   "outputs": [
    {
     "name": "stdout",
     "output_type": "stream",
     "text": [
      "empfehlen  ->  recommend\n",
      "diesbezüglich  ->  in this regard\n",
      "vetrauen  ->  trust\n"
     ]
    }
   ],
   "source": [
    "text = \"Ein alter Arzt hat uns so empfohlen und diesbezüglich vetrauen wir ihm.\"\n",
    "\n",
    "\n",
    "nlp = spacy.load(LANG[\"de\"])\n",
    "doc = nlp(text)\n",
    "\n",
    "words = []\n",
    "for token in doc:\n",
    "    if word_frequency(token.text, \"de\") < .00005 and token.is_alpha:        \n",
    "        words.append(token.lemma_)\n",
    "\n",
    "words = list(dict.fromkeys(words))\n",
    "        \n",
    "translations = translator.translate(words, dest='en') \n",
    "for translation in translations:\n",
    "    print(translation.origin, ' -> ', translation.text)"
   ]
  },
  {
   "cell_type": "code",
   "execution_count": 4,
   "metadata": {},
   "outputs": [
    {
     "name": "stdout",
     "output_type": "stream",
     "text": [
      "Ein alter Arzt\n",
      "4.45e-05\n",
      "uns\n",
      "0.0012\n",
      "wir\n",
      "0.00339\n",
      "ihm\n",
      "0.000676\n"
     ]
    }
   ],
   "source": [
    "for chunk in doc.noun_chunks:\n",
    "    print(chunk)\n",
    "    print(word_frequency(chunk.text, \"de\"))"
   ]
  },
  {
   "cell_type": "code",
   "execution_count": null,
   "metadata": {},
   "outputs": [],
   "source": []
  }
 ],
 "metadata": {
  "kernelspec": {
   "display_name": "footnotes",
   "language": "python",
   "name": "footnotes"
  },
  "language_info": {
   "codemirror_mode": {
    "name": "ipython",
    "version": 3
   },
   "file_extension": ".py",
   "mimetype": "text/x-python",
   "name": "python",
   "nbconvert_exporter": "python",
   "pygments_lexer": "ipython3",
   "version": "3.8.5"
  }
 },
 "nbformat": 4,
 "nbformat_minor": 4
}
