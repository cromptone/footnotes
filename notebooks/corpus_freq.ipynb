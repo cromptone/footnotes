{
 "cells": [
  {
   "cell_type": "code",
   "execution_count": 1,
   "metadata": {},
   "outputs": [],
   "source": [
    "from wordfreq import word_frequency\n",
    "from googletrans import Translator\n",
    "from base64 import b64decode\n",
    "import spacy as spacy\n",
    "\n",
    "translator = Translator()\n",
    "LANG = {\"de\": \"de_core_news_sm\"}\n",
    "nlp = spacy.load(LANG[\"de\"])"
   ]
  },
  {
   "cell_type": "code",
   "execution_count": 2,
   "metadata": {},
   "outputs": [
    {
     "data": {
      "text/plain": [
       "[{'origin': 'der', 'translation_text': 'of the', 'freq': 0.0302},\n",
       " {'origin': 'Gedanke', 'translation_text': 'thought', 'freq': 2.51e-05},\n",
       " {'origin': 'sein', 'translation_text': 'be', 'freq': 0.00204},\n",
       " {'origin': 'frei', 'translation_text': 'free', 'freq': 0.000158},\n",
       " {'origin': 'wer', 'translation_text': 'who', 'freq': 0.000661},\n",
       " {'origin': 'können', 'translation_text': 'can', 'freq': 0.00135},\n",
       " {'origin': 'ich', 'translation_text': 'I', 'freq': 0.0132},\n",
       " {'origin': 'erraten', 'translation_text': 'guess', 'freq': 3.09e-06}]"
      ]
     },
     "execution_count": 2,
     "metadata": {},
     "output_type": "execute_result"
    }
   ],
   "source": [
    "text = b64decode(\"RGllIEdlZGFua2VuIHNpbmQgZnJlaSwgd2VyIGthbm4gc2llIGVycmF0ZW4=\").decode('utf-8')\n",
    "doc = nlp(text)\n",
    "\n",
    "words = [token.lemma_ for token in doc if token.is_alpha]\n",
    "words = list(dict.fromkeys(words))\n",
    "translations = translator.translate(words, dest='en') \n",
    "\n",
    "\n",
    "ret = []\n",
    "for translation in translations:    \n",
    "    translation_dict = {\"origin\": translation.origin,\n",
    "                        \"translation_text\": translation.text,\n",
    "                        \"freq\": word_frequency(translation.origin, \"de\")}\n",
    "    ret.append(translation_dict)\n",
    "\n",
    "    \n",
    "ret"
   ]
  },
  {
   "cell_type": "code",
   "execution_count": 3,
   "metadata": {},
   "outputs": [],
   "source": [
    "chunks = []\n",
    "\n",
    "for chunk in doc.noun_chunks:\n",
    "    if len(chunk.text.split(\" \")) > 1:\n",
    "        chunks.append(chunk.text)\n",
    "\n",
    "        \n",
    "translations = translator.translate(chunks, dest='en') \n"
   ]
  },
  {
   "cell_type": "code",
   "execution_count": null,
   "metadata": {},
   "outputs": [],
   "source": []
  },
  {
   "cell_type": "code",
   "execution_count": null,
   "metadata": {},
   "outputs": [],
   "source": []
  },
  {
   "cell_type": "code",
   "execution_count": null,
   "metadata": {},
   "outputs": [],
   "source": []
  },
  {
   "cell_type": "code",
   "execution_count": null,
   "metadata": {},
   "outputs": [],
   "source": []
  },
  {
   "cell_type": "code",
   "execution_count": null,
   "metadata": {},
   "outputs": [],
   "source": []
  }
 ],
 "metadata": {
  "kernelspec": {
   "display_name": "footnotes",
   "language": "python",
   "name": "footnotes"
  },
  "language_info": {
   "codemirror_mode": {
    "name": "ipython",
    "version": 3
   },
   "file_extension": ".py",
   "mimetype": "text/x-python",
   "name": "python",
   "nbconvert_exporter": "python",
   "pygments_lexer": "ipython3",
   "version": "3.8.5"
  }
 },
 "nbformat": 4,
 "nbformat_minor": 4
}
