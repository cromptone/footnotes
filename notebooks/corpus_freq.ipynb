{
 "cells": [
  {
   "cell_type": "code",
   "execution_count": 2,
   "metadata": {},
   "outputs": [],
   "source": [
    "from wordfreq import word_frequency\n",
    "import spacy as spacy\n",
    "from googletrans import Translator\n",
    "translator = Translator()\n",
    "\n",
    "LANG = {\"de\": \"de_core_news_sm\"}"
   ]
  },
  {
   "cell_type": "code",
   "execution_count": 16,
   "metadata": {},
   "outputs": [
    {
     "name": "stdout",
     "output_type": "stream",
     "text": [
      "Ein  ->  A  ->  0.00813\n",
      "altern  ->  aging  ->  2.82e-06\n",
      "Arzt  ->  doctor  ->  5.89e-05\n",
      "haben  ->  to have  ->  0.00275\n",
      "sich  ->  themselves  ->  0.00603\n",
      "so  ->  so  ->  0.00468\n",
      "empfehlen  ->  recommend  ->  3.89e-05\n",
      "und  ->  and  ->  0.0269\n",
      "diesbezüglich  ->  in this regard  ->  6.46e-06\n",
      "vetrauen  ->  trust  ->  2.57e-08\n",
      "ich  ->  I  ->  0.0132\n"
     ]
    }
   ],
   "source": [
    "text = \"Ein alter Arzt hat uns so empfohlen und diesbezüglich vetrauen wir ihm.\"\n",
    "\n",
    "\n",
    "nlp = spacy.load(LANG[\"de\"])\n",
    "doc = nlp(text)\n",
    "\n",
    "words = []\n",
    "\n",
    "words = [token.lemma_ for token in doc if token.is_alpha]\n",
    "words = list(dict.fromkeys(words))\n",
    "translations = translator.translate(words, dest='en') \n",
    "\n",
    "for translation in translations:    \n",
    "    print(translation.origin, ' -> ', translation.text, ' -> ', word_frequency(translation.origin, \"de\"))"
   ]
  },
  {
   "cell_type": "code",
   "execution_count": 4,
   "metadata": {},
   "outputs": [
    {
     "name": "stdout",
     "output_type": "stream",
     "text": [
      "Ein alter Arzt\n",
      "4.45e-05\n",
      "uns\n",
      "0.0012\n",
      "wir\n",
      "0.00339\n",
      "ihm\n",
      "0.000676\n"
     ]
    }
   ],
   "source": [
    "for chunk in doc.noun_chunks:\n",
    "    print(chunk)\n",
    "    print(word_frequency(chunk.text, \"de\"))"
   ]
  }
 ],
 "metadata": {
  "kernelspec": {
   "display_name": "footnotes",
   "language": "python",
   "name": "footnotes"
  },
  "language_info": {
   "codemirror_mode": {
    "name": "ipython",
    "version": 3
   },
   "file_extension": ".py",
   "mimetype": "text/x-python",
   "name": "python",
   "nbconvert_exporter": "python",
   "pygments_lexer": "ipython3",
   "version": "3.8.5"
  }
 },
 "nbformat": 4,
 "nbformat_minor": 4
}
