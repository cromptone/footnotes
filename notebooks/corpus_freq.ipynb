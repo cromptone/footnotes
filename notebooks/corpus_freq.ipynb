{
 "cells": [
  {
   "cell_type": "code",
   "execution_count": 2,
   "metadata": {},
   "outputs": [],
   "source": [
    "from wordfreq import word_frequency\n",
    "from googletrans import Translator\n",
    "from base64 import b64decode\n",
    "import spacy as spacy\n",
    "\n",
    "translator = Translator()\n",
    "LANG = {\"de\": \"de_core_news_sm\"}\n",
    "nlp = spacy.load(LANG[\"de\"])"
   ]
  },
  {
   "cell_type": "code",
   "execution_count": 3,
   "metadata": {},
   "outputs": [
    {
     "data": {
      "text/plain": [
       "[{'origin': 'der', 'translation_text': 'of the', 'freq': 0.0302},\n",
       " {'origin': 'Gedanke', 'translation_text': 'thought', 'freq': 2.51e-05},\n",
       " {'origin': 'sein', 'translation_text': 'be', 'freq': 0.00204},\n",
       " {'origin': 'frei', 'translation_text': 'free', 'freq': 0.000158},\n",
       " {'origin': 'wer', 'translation_text': 'who', 'freq': 0.000661},\n",
       " {'origin': 'können', 'translation_text': 'can', 'freq': 0.00135},\n",
       " {'origin': 'ich', 'translation_text': 'I', 'freq': 0.0132},\n",
       " {'origin': 'erraten', 'translation_text': 'guess', 'freq': 3.09e-06}]"
      ]
     },
     "execution_count": 3,
     "metadata": {},
     "output_type": "execute_result"
    }
   ],
   "source": [
    "text = b64decode(\"RGllIEdlZGFua2VuIHNpbmQgZnJlaSwgd2VyIGthbm4gc2llIGVycmF0ZW4=\").decode('utf-8')\n",
    "RGllIExvaG5zdGV1ZXJrbGFzc2UgVkkgd2lyZCBlaW5nZXRyYWdlbiwgd2VubiBlaW4gQXJiZWl0bmVobWVyIGVpbiB6d2VpdGVzIG9kZXIgd2VpdGVyZXMgRGllbnN0dmVyaMOkbHRuaXMgaGF0LiBBdcOfZXJkZW0gaXN0IGRlciBBcmJlaXRnZWJlciB2ZXJwZmxpY2h0ZXQsIGRpZSBMb2huc3RldWVyIG5hY2ggU3RldWVya2xhc3NlIFZJIGVpbnp1YmVoYWx0ZW4sIHdlbm4gZGVyIEFyYmVpdG5laG1lciBkaWUgZWxla3Ryb25pc2NoZW4gTG9obnN0ZXVlcmFienVnc21lcmttYWxlIHNjaHVsZGhhZnQgbmljaHQgYmVyZWl0c3RlbGx0LiBEaWVzZSBMb2huc3RldWVya2xhc3NlIHZlcnVyc2FjaHQgZGllIGjDtmNoc3RlIFN0ZXVlcmJlbGFzdHVuZywgd2VpbCBhdcOfZXIgZGVtIEFsdGVyc2VudGxhc3R1bmdzYmV0cmFnIGtlaW5lIEZyZWliZXRyw6RnZSBiZXLDvGNrc2ljaHRpZ3Qgd2VyZGVuLiBEYSBkaWUgRWlua8O8bmZ0ZSBkZXMgZXJzdGVuIEJlc2Now6RmdGlndW5nc3ZlcmjDpGx0bmlzc2VzIG5pY2h0IGJla2FubnQgc2luZCwgd2lyZCBoaWVyIHdlc2VudGxpY2ggbWVociBlaW5iZWhhbHRlbiBhbHMgaW4gZGVuIGFuZGVyZW4gU3RldWVya2xhc3Nlbi4=\"\n",
    "doc = nlp(text)\n",
    "\n",
    "words = [token.lemma_ for token in doc if token.is_alpha]\n",
    "words = list(dict.fromkeys(words))\n",
    "translations = translator.translate(words, dest='en') \n",
    "\n",
    "\n",
    "ret = []\n",
    "for translation in translations:    \n",
    "    translation_dict = {\"origin\": translation.origin,\n",
    "                        \"translation_text\": translation.text,\n",
    "                        \"freq\": word_frequency(translation.origin, \"de\")}\n",
    "    ret.append(translation_dict)\n",
    "\n",
    "    \n",
    "ret"
   ]
  },
  {
   "cell_type": "code",
   "execution_count": 4,
   "metadata": {},
   "outputs": [
    {
     "data": {
      "text/plain": [
       "['Die Gedanken']"
      ]
     },
     "execution_count": 4,
     "metadata": {},
     "output_type": "execute_result"
    }
   ],
   "source": [
    "chunks = []\n",
    "\n",
    "for chunk in doc.noun_chunks:\n",
    "    if len(chunk.text.split(\" \")) > 1:\n",
    "        chunks.append(chunk.text)\n",
    "\n",
    "        \n",
    "# translations = translator.translate(chunks, dest='en') \n",
    "chunks"
   ]
  },
  {
   "cell_type": "code",
   "execution_count": null,
   "metadata": {},
   "outputs": [],
   "source": []
  },
  {
   "cell_type": "code",
   "execution_count": null,
   "metadata": {},
   "outputs": [],
   "source": []
  },
  {
   "cell_type": "code",
   "execution_count": null,
   "metadata": {},
   "outputs": [],
   "source": []
  },
  {
   "cell_type": "code",
   "execution_count": null,
   "metadata": {},
   "outputs": [],
   "source": []
  },
  {
   "cell_type": "code",
   "execution_count": null,
   "metadata": {},
   "outputs": [],
   "source": []
  }
 ],
 "metadata": {
  "kernelspec": {
   "display_name": "footnotes",
   "language": "python",
   "name": "footnotes"
  },
  "language_info": {
   "codemirror_mode": {
    "name": "ipython",
    "version": 3
   },
   "file_extension": ".py",
   "mimetype": "text/x-python",
   "name": "python",
   "nbconvert_exporter": "python",
   "pygments_lexer": "ipython3",
   "version": "3.8.5"
  }
 },
 "nbformat": 4,
 "nbformat_minor": 4
}
